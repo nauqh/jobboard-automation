{
 "cells": [
  {
   "cell_type": "code",
   "execution_count": 4,
   "id": "972da5a3-ed4a-4c92-899d-2a3f373f13fb",
   "metadata": {},
   "outputs": [],
   "source": [
    "from bs4 import BeautifulSoup\n",
    "import requests\n",
    "import time"
   ]
  },
  {
   "cell_type": "code",
   "execution_count": 5,
   "id": "d2b20710-7631-47f7-9776-05f774b41185",
   "metadata": {},
   "outputs": [
    {
     "data": {
      "text/plain": [
       "(2,\n",
       " ['3860728208',\n",
       "  '3967631880',\n",
       "  '3959312082',\n",
       "  '3958342389',\n",
       "  '3930751547',\n",
       "  '3962936128',\n",
       "  '3930569713',\n",
       "  '3959725080',\n",
       "  '3937838511',\n",
       "  '3964485670'])"
      ]
     },
     "execution_count": 5,
     "metadata": {},
     "output_type": "execute_result"
    }
   ],
   "source": [
    "url = \"https://www.linkedin.com/jobs-guest/jobs/api/seeMoreJobPostings/search?keywords=Data%20Analyst&location=Vietnam&f_E=2\"\n",
    "\n",
    "attempts = 0\n",
    "ids = []\n",
    "\n",
    "while attempts < 3 and not ids:\n",
    "    response = requests.get(url)\n",
    "    soup = BeautifulSoup(response.text, 'html.parser')\n",
    "    jobs = soup.find_all('li')\n",
    "    for job in jobs:\n",
    "        base_card = job.find('div', class_='base-search-card')\n",
    "        ids.append(base_card.get('data-entity-urn').split(\":\")[3]) \n",
    "    attempts += 1\n",
    "attempts, ids"
   ]
  },
  {
   "cell_type": "code",
   "execution_count": 6,
   "id": "bfdc77ff-a222-4004-893f-0384ba2b1e00",
   "metadata": {},
   "outputs": [
    {
     "name": "stdout",
     "output_type": "stream",
     "text": [
      "'NoneType' object has no attribute 'text'. Retrying...\n",
      "'NoneType' object has no attribute 'text'. Retrying...\n",
      "'NoneType' object has no attribute 'text'. Retrying...\n"
     ]
    }
   ],
   "source": [
    "job_data = []\n",
    "for id in ids:\n",
    "    url = f\"https://www.linkedin.com/jobs-guest/jobs/api/jobPosting/{id}\"\n",
    "    \n",
    "    while True:\n",
    "        try:\n",
    "            response = requests.get(url)            \n",
    "            soup = BeautifulSoup(response.text, 'html.parser')\n",
    "            \n",
    "            title = soup.find('h2').text\n",
    "            company = soup.find('a', class_='topcard__org-name-link').text.strip()\n",
    "            logo = soup.find('img').get('data-delayed-url')\n",
    "\n",
    "            job_url = soup.find('a', class_='topcard__link').get('href')\n",
    "            location = soup.find('span', class_='topcard__flavor topcard__flavor--bullet').text.strip().split(',')[0]\n",
    "            descriptions = [item.text.strip() for item in soup.find('div', class_='description__text').find_all('ul')[0].find_all('li')]\n",
    "            requirements = [item.text.strip() for item in soup.find('div', class_='description__text').find_all('ul')[1].find_all('li')]\n",
    "            job_data.append({\n",
    "                'title': title,\n",
    "                'company': company,\n",
    "                'logo': logo,\n",
    "                'url': job_url,\n",
    "                'location': location,\n",
    "                'descriptions': descriptions,\n",
    "                'requirements': requirements\n",
    "            })\n",
    "            break \n",
    "        except Exception as e:\n",
    "            print(f\"{e}. Retrying...\")\n",
    "            time.sleep(2)"
   ]
  },
  {
   "cell_type": "code",
   "execution_count": 40,
   "id": "066960c8-ff3a-4493-b469-d95ebadf566b",
   "metadata": {},
   "outputs": [],
   "source": [
    "import json\n",
    "with open(f\"data/raw/linkedin_jobs.json\", 'w', encoding='utf-8') as file:\n",
    "    json.dump(job_data, file, ensure_ascii=False)"
   ]
  },
  {
   "cell_type": "code",
   "execution_count": null,
   "id": "93d378db-5893-4288-ac55-a17d75a388c0",
   "metadata": {},
   "outputs": [],
   "source": []
  }
 ],
 "metadata": {
  "kernelspec": {
   "display_name": "Python 3 (ipykernel)",
   "language": "python",
   "name": "python3"
  },
  "language_info": {
   "codemirror_mode": {
    "name": "ipython",
    "version": 3
   },
   "file_extension": ".py",
   "mimetype": "text/x-python",
   "name": "python",
   "nbconvert_exporter": "python",
   "pygments_lexer": "ipython3",
   "version": "3.11.4"
  }
 },
 "nbformat": 4,
 "nbformat_minor": 5
}
